{
 "cells": [
  {
   "attachments": {},
   "cell_type": "markdown",
   "metadata": {},
   "source": [
    "# EDA (Exploratory Data Analysis) of the dataset\n",
    "\n",
    "In this notebook, explore the Abalone dataset.\n",
    "\n",
    "Add any relevant insight for future modelling."
   ]
  },
  {
   "attachments": {},
   "cell_type": "markdown",
   "metadata": {},
   "source": [
    "# Imports"
   ]
  },
  {
   "cell_type": "code",
   "execution_count": 42,
   "metadata": {},
   "outputs": [
    {
     "name": "stdout",
     "output_type": "stream",
     "text": [
      "Collecting package metadata (current_repodata.json): done\n",
      "Solving environment: done\n",
      "\n",
      "\n",
      "==> WARNING: A newer version of conda exists. <==\n",
      "  current version: 4.11.0\n",
      "  latest version: 23.9.0\n",
      "\n",
      "Please update conda by running\n",
      "\n",
      "    $ conda update -n base conda\n",
      "\n",
      "\n",
      "\n",
      "# All requested packages already installed.\n",
      "\n",
      "\n",
      "Note: you may need to restart the kernel to use updated packages.\n"
     ]
    }
   ],
   "source": [
    "conda install numpy"
   ]
  },
  {
   "cell_type": "code",
   "execution_count": 38,
   "metadata": {},
   "outputs": [
    {
     "name": "stdout",
     "output_type": "stream",
     "text": [
      "Collecting package metadata (current_repodata.json): done\n",
      "Solving environment: done\n",
      "\n",
      "\n",
      "==> WARNING: A newer version of conda exists. <==\n",
      "  current version: 4.11.0\n",
      "  latest version: 23.9.0\n",
      "\n",
      "Please update conda by running\n",
      "\n",
      "    $ conda update -n base conda\n",
      "\n",
      "\n",
      "\n",
      "## Package Plan ##\n",
      "\n",
      "  environment location: /Users/danliliu/opt/anaconda3/envs/x-hec-solution\n",
      "\n",
      "  added / updated specs:\n",
      "    - matplotlib\n",
      "\n",
      "\n",
      "The following packages will be downloaded:\n",
      "\n",
      "    package                    |            build\n",
      "    ---------------------------|-----------------\n",
      "    brotli-1.1.0               |       h0dc2134_1          19 KB  conda-forge\n",
      "    brotli-bin-1.1.0           |       h0dc2134_1          16 KB  conda-forge\n",
      "    contourpy-1.1.1            |  py310h88cfcbd_1         214 KB  conda-forge\n",
      "    cycler-0.12.1              |     pyhd8ed1ab_0          13 KB  conda-forge\n",
      "    fonttools-4.43.1           |  py310hb372a2b_0         2.0 MB  conda-forge\n",
      "    freetype-2.12.1            |       h60636b9_2         585 KB  conda-forge\n",
      "    kiwisolver-1.4.5           |  py310h88cfcbd_1          59 KB  conda-forge\n",
      "    lcms2-2.15                 |       hd6ba6f3_3         220 KB  conda-forge\n",
      "    lerc-4.0.0                 |       hb486fe8_0         284 KB  conda-forge\n",
      "    libblas-3.9.0              |19_osx64_openblas          14 KB  conda-forge\n",
      "    libbrotlicommon-1.1.0      |       h0dc2134_1          66 KB  conda-forge\n",
      "    libbrotlidec-1.1.0         |       h0dc2134_1          30 KB  conda-forge\n",
      "    libbrotlienc-1.1.0         |       h0dc2134_1         292 KB  conda-forge\n",
      "    libcblas-3.9.0             |19_osx64_openblas          14 KB  conda-forge\n",
      "    libdeflate-1.19            |       ha4e1b8e_0          67 KB  conda-forge\n",
      "    libgfortran-5.0.0          |13_2_0_h97931a8_1         107 KB  conda-forge\n",
      "    libgfortran5-13.2.0        |       h2873a65_1         1.5 MB  conda-forge\n",
      "    libjpeg-turbo-3.0.0        |       h0dc2134_1         566 KB  conda-forge\n",
      "    liblapack-3.9.0            |19_osx64_openblas          14 KB  conda-forge\n",
      "    libopenblas-0.3.24         |openmp_h48a4ad5_0         5.9 MB  conda-forge\n",
      "    libpng-1.6.39              |       ha978bb4_0         265 KB  conda-forge\n",
      "    libtiff-4.6.0              |       h684deea_2         260 KB  conda-forge\n",
      "    libwebp-base-1.3.2         |       h0dc2134_0         338 KB  conda-forge\n",
      "    libxcb-1.15                |       hb7f2c08_0         306 KB  conda-forge\n",
      "    llvm-openmp-17.0.3         |       hb6ac08f_0         293 KB  conda-forge\n",
      "    matplotlib-3.8.0           |  py310h2ec42d9_2           8 KB  conda-forge\n",
      "    matplotlib-base-3.8.0      |  py310h2a8a546_2         6.6 MB  conda-forge\n",
      "    munkres-1.1.4              |     pyh9f0ad1d_0          12 KB  conda-forge\n",
      "    numpy-1.26.0               |  py310h0171094_0         6.2 MB  conda-forge\n",
      "    openjpeg-2.5.0             |       ha4da562_3         328 KB  conda-forge\n",
      "    pillow-10.1.0              |  py310he65384d_0        44.1 MB  conda-forge\n",
      "    pthread-stubs-0.4          |    hc929b4f_1001           6 KB  conda-forge\n",
      "    pyparsing-3.1.1            |     pyhd8ed1ab_0          87 KB  conda-forge\n",
      "    unicodedata2-15.1.0        |  py310h6729b98_0         358 KB  conda-forge\n",
      "    xorg-libxau-1.0.11         |       h0dc2134_0          13 KB  conda-forge\n",
      "    xorg-libxdmcp-1.1.3        |       h35c211d_0          17 KB  conda-forge\n",
      "    zstd-1.5.5                 |       h829000d_0         488 KB  conda-forge\n",
      "    ------------------------------------------------------------\n",
      "                                           Total:        71.6 MB\n",
      "\n",
      "The following NEW packages will be INSTALLED:\n",
      "\n",
      "  brotli             conda-forge/osx-64::brotli-1.1.0-h0dc2134_1\n",
      "  brotli-bin         conda-forge/osx-64::brotli-bin-1.1.0-h0dc2134_1\n",
      "  contourpy          conda-forge/osx-64::contourpy-1.1.1-py310h88cfcbd_1\n",
      "  cycler             conda-forge/noarch::cycler-0.12.1-pyhd8ed1ab_0\n",
      "  fonttools          conda-forge/osx-64::fonttools-4.43.1-py310hb372a2b_0\n",
      "  freetype           conda-forge/osx-64::freetype-2.12.1-h60636b9_2\n",
      "  kiwisolver         conda-forge/osx-64::kiwisolver-1.4.5-py310h88cfcbd_1\n",
      "  lcms2              conda-forge/osx-64::lcms2-2.15-hd6ba6f3_3\n",
      "  lerc               conda-forge/osx-64::lerc-4.0.0-hb486fe8_0\n",
      "  libblas            conda-forge/osx-64::libblas-3.9.0-19_osx64_openblas\n",
      "  libbrotlicommon    conda-forge/osx-64::libbrotlicommon-1.1.0-h0dc2134_1\n",
      "  libbrotlidec       conda-forge/osx-64::libbrotlidec-1.1.0-h0dc2134_1\n",
      "  libbrotlienc       conda-forge/osx-64::libbrotlienc-1.1.0-h0dc2134_1\n",
      "  libcblas           conda-forge/osx-64::libcblas-3.9.0-19_osx64_openblas\n",
      "  libdeflate         conda-forge/osx-64::libdeflate-1.19-ha4e1b8e_0\n",
      "  libgfortran        conda-forge/osx-64::libgfortran-5.0.0-13_2_0_h97931a8_1\n",
      "  libgfortran5       conda-forge/osx-64::libgfortran5-13.2.0-h2873a65_1\n",
      "  libjpeg-turbo      conda-forge/osx-64::libjpeg-turbo-3.0.0-h0dc2134_1\n",
      "  liblapack          conda-forge/osx-64::liblapack-3.9.0-19_osx64_openblas\n",
      "  libopenblas        conda-forge/osx-64::libopenblas-0.3.24-openmp_h48a4ad5_0\n",
      "  libpng             conda-forge/osx-64::libpng-1.6.39-ha978bb4_0\n",
      "  libtiff            conda-forge/osx-64::libtiff-4.6.0-h684deea_2\n",
      "  libwebp-base       conda-forge/osx-64::libwebp-base-1.3.2-h0dc2134_0\n",
      "  libxcb             conda-forge/osx-64::libxcb-1.15-hb7f2c08_0\n",
      "  llvm-openmp        conda-forge/osx-64::llvm-openmp-17.0.3-hb6ac08f_0\n",
      "  matplotlib         conda-forge/osx-64::matplotlib-3.8.0-py310h2ec42d9_2\n",
      "  matplotlib-base    conda-forge/osx-64::matplotlib-base-3.8.0-py310h2a8a546_2\n",
      "  munkres            conda-forge/noarch::munkres-1.1.4-pyh9f0ad1d_0\n",
      "  numpy              conda-forge/osx-64::numpy-1.26.0-py310h0171094_0\n",
      "  openjpeg           conda-forge/osx-64::openjpeg-2.5.0-ha4da562_3\n",
      "  pillow             conda-forge/osx-64::pillow-10.1.0-py310he65384d_0\n",
      "  pthread-stubs      conda-forge/osx-64::pthread-stubs-0.4-hc929b4f_1001\n",
      "  pyparsing          conda-forge/noarch::pyparsing-3.1.1-pyhd8ed1ab_0\n",
      "  unicodedata2       conda-forge/osx-64::unicodedata2-15.1.0-py310h6729b98_0\n",
      "  xorg-libxau        conda-forge/osx-64::xorg-libxau-1.0.11-h0dc2134_0\n",
      "  xorg-libxdmcp      conda-forge/osx-64::xorg-libxdmcp-1.1.3-h35c211d_0\n",
      "  zstd               conda-forge/osx-64::zstd-1.5.5-h829000d_0\n",
      "\n",
      "\n",
      "\n",
      "Downloading and Extracting Packages\n",
      "pyparsing-3.1.1      | 87 KB     | ##################################### | 100% \n",
      "munkres-1.1.4        | 12 KB     | ##################################### | 100% \n",
      "freetype-2.12.1      | 585 KB    | ##################################### | 100% \n",
      "lerc-4.0.0           | 284 KB    | ##################################### | 100% \n",
      "pillow-10.1.0        | 44.1 MB   | ##################################### | 100% \n",
      "libgfortran-5.0.0    | 107 KB    | ##################################### | 100% \n",
      "libbrotlidec-1.1.0   | 30 KB     | ##################################### | 100% \n",
      "libdeflate-1.19      | 67 KB     | ##################################### | 100% \n",
      "kiwisolver-1.4.5     | 59 KB     | ##################################### | 100% \n",
      "llvm-openmp-17.0.3   | 293 KB    | ##################################### | 100% \n",
      "matplotlib-3.8.0     | 8 KB      | ##################################### | 100% \n",
      "libbrotlicommon-1.1. | 66 KB     | ##################################### | 100% \n",
      "zstd-1.5.5           | 488 KB    | ##################################### | 100% \n",
      "libpng-1.6.39        | 265 KB    | ##################################### | 100% \n",
      "libbrotlienc-1.1.0   | 292 KB    | ##################################### | 100% \n",
      "lcms2-2.15           | 220 KB    | ##################################### | 100% \n",
      "cycler-0.12.1        | 13 KB     | ##################################### | 100% \n",
      "pthread-stubs-0.4    | 6 KB      | ##################################### | 100% \n",
      "brotli-1.1.0         | 19 KB     | ##################################### | 100% \n",
      "liblapack-3.9.0      | 14 KB     | ##################################### | 100% \n",
      "openjpeg-2.5.0       | 328 KB    | ##################################### | 100% \n",
      "libblas-3.9.0        | 14 KB     | ##################################### | 100% \n",
      "unicodedata2-15.1.0  | 358 KB    | ##################################### | 100% \n",
      "brotli-bin-1.1.0     | 16 KB     | ##################################### | 100% \n",
      "xorg-libxau-1.0.11   | 13 KB     | ##################################### | 100% \n",
      "libxcb-1.15          | 306 KB    | ##################################### | 100% \n",
      "libopenblas-0.3.24   | 5.9 MB    | ##################################### | 100% \n",
      "numpy-1.26.0         | 6.2 MB    | ##################################### | 100% \n",
      "contourpy-1.1.1      | 214 KB    | ##################################### | 100% \n",
      "libwebp-base-1.3.2   | 338 KB    | ##################################### | 100% \n",
      "xorg-libxdmcp-1.1.3  | 17 KB     | ##################################### | 100% \n",
      "libgfortran5-13.2.0  | 1.5 MB    | ##################################### | 100% \n",
      "libcblas-3.9.0       | 14 KB     | ##################################### | 100% \n",
      "fonttools-4.43.1     | 2.0 MB    | ##################################### | 100% \n",
      "libjpeg-turbo-3.0.0  | 566 KB    | ##################################### | 100% \n",
      "matplotlib-base-3.8. | 6.6 MB    | ##################################### | 100% \n",
      "libtiff-4.6.0        | 260 KB    | ##################################### | 100% \n",
      "Preparing transaction: done\n",
      "Verifying transaction: done\n",
      "Executing transaction: done\n",
      "\n",
      "Note: you may need to restart the kernel to use updated packages.\n"
     ]
    }
   ],
   "source": [
    "conda install -c conda-forge matplotlib"
   ]
  },
  {
   "cell_type": "code",
   "execution_count": 3,
   "metadata": {
    "scrolled": true
   },
   "outputs": [
    {
     "name": "stdout",
     "output_type": "stream",
     "text": [
      "Collecting pandas\n",
      "  Downloading pandas-2.1.1-cp310-cp310-macosx_10_9_x86_64.whl (11.7 MB)\n",
      "\u001b[2K     \u001b[90m━━━━━━━━━━━━━━━━━━━━━━━━━━━━━━━━━━━━━━━━\u001b[0m \u001b[32m11.7/11.7 MB\u001b[0m \u001b[31m26.9 MB/s\u001b[0m eta \u001b[36m0:00:00\u001b[0m00:01\u001b[0m00:01\u001b[0m\n",
      "\u001b[?25hRequirement already satisfied: pytz>=2020.1 in /Users/danliliu/opt/anaconda3/envs/x-hec-solution/lib/python3.10/site-packages (from pandas) (2023.3.post1)\n",
      "Requirement already satisfied: python-dateutil>=2.8.2 in /Users/danliliu/opt/anaconda3/envs/x-hec-solution/lib/python3.10/site-packages (from pandas) (2.8.2)\n",
      "Collecting tzdata>=2022.1\n",
      "  Downloading tzdata-2023.3-py2.py3-none-any.whl (341 kB)\n",
      "\u001b[2K     \u001b[90m━━━━━━━━━━━━━━━━━━━━━━━━━━━━━━━━━━━━━━\u001b[0m \u001b[32m341.8/341.8 kB\u001b[0m \u001b[31m20.8 MB/s\u001b[0m eta \u001b[36m0:00:00\u001b[0m\n",
      "\u001b[?25hCollecting numpy>=1.22.4\n",
      "  Downloading numpy-1.26.1-cp310-cp310-macosx_10_9_x86_64.whl (20.6 MB)\n",
      "\u001b[2K     \u001b[90m━━━━━━━━━━━━━━━━━━━━━━━━━━━━━━━━━━━━━━━━\u001b[0m \u001b[32m20.6/20.6 MB\u001b[0m \u001b[31m11.6 MB/s\u001b[0m eta \u001b[36m0:00:00\u001b[0m00:01\u001b[0m00:01\u001b[0m\n",
      "\u001b[?25hRequirement already satisfied: six>=1.5 in /Users/danliliu/opt/anaconda3/envs/x-hec-solution/lib/python3.10/site-packages (from python-dateutil>=2.8.2->pandas) (1.16.0)\n",
      "Installing collected packages: tzdata, numpy, pandas\n",
      "Successfully installed numpy-1.26.1 pandas-2.1.1 tzdata-2023.3\n"
     ]
    }
   ],
   "source": [
    "!pip install pandas"
   ]
  },
  {
   "cell_type": "code",
   "execution_count": 43,
   "metadata": {},
   "outputs": [
    {
     "name": "stdout",
     "output_type": "stream",
     "text": [
      "numpy                     1.26.1                   pypi_0    pypi\n",
      "\n",
      "Note: you may need to restart the kernel to use updated packages.\n"
     ]
    }
   ],
   "source": [
    "conda list | grep numpy"
   ]
  },
  {
   "cell_type": "code",
   "execution_count": 45,
   "metadata": {},
   "outputs": [
    {
     "name": "stdout",
     "output_type": "stream",
     "text": [
      "The autoreload extension is already loaded. To reload it, use:\n",
      "  %reload_ext autoreload\n"
     ]
    }
   ],
   "source": [
    "%load_ext autoreload\n",
    "%autoreload 2\n",
    "\n",
    "import pandas as pd\n",
    "pd.set_option('display.max_columns', 500)\n",
    "from pathlib import Path\n",
    "import numpy as np"
   ]
  },
  {
   "attachments": {},
   "cell_type": "markdown",
   "metadata": {},
   "source": [
    "# Data"
   ]
  },
  {
   "cell_type": "code",
   "execution_count": 15,
   "metadata": {},
   "outputs": [
    {
     "data": {
      "text/plain": [
       "'/Users/danliliu/Documents/DSB_M2/MLOP/xhec-mlops-project-student/notebooks'"
      ]
     },
     "execution_count": 15,
     "metadata": {},
     "output_type": "execute_result"
    }
   ],
   "source": [
    "import os\n",
    "os.getcwd()"
   ]
  },
  {
   "cell_type": "code",
   "execution_count": 30,
   "metadata": {},
   "outputs": [],
   "source": [
    "# Define the relative path to the data folder\n",
    "DATA_FOLDER = Path(\"../data\")\n",
    "\n",
    "# Construct the path to your CSV file\n",
    "csv_path = DATA_FOLDER / \"abalone.csv\""
   ]
  },
  {
   "cell_type": "code",
   "execution_count": 31,
   "metadata": {},
   "outputs": [
    {
     "data": {
      "text/plain": [
       "PosixPath('../data/abalone.csv')"
      ]
     },
     "execution_count": 31,
     "metadata": {},
     "output_type": "execute_result"
    }
   ],
   "source": [
    "csv_path"
   ]
  },
  {
   "cell_type": "code",
   "execution_count": 32,
   "metadata": {},
   "outputs": [],
   "source": [
    "df = pd.read_csv(csv_path)"
   ]
  },
  {
   "attachments": {},
   "cell_type": "markdown",
   "metadata": {},
   "source": [
    "# EDA"
   ]
  },
  {
   "cell_type": "code",
   "execution_count": 33,
   "metadata": {},
   "outputs": [
    {
     "data": {
      "text/html": [
       "<div>\n",
       "<style scoped>\n",
       "    .dataframe tbody tr th:only-of-type {\n",
       "        vertical-align: middle;\n",
       "    }\n",
       "\n",
       "    .dataframe tbody tr th {\n",
       "        vertical-align: top;\n",
       "    }\n",
       "\n",
       "    .dataframe thead th {\n",
       "        text-align: right;\n",
       "    }\n",
       "</style>\n",
       "<table border=\"1\" class=\"dataframe\">\n",
       "  <thead>\n",
       "    <tr style=\"text-align: right;\">\n",
       "      <th></th>\n",
       "      <th>Sex</th>\n",
       "      <th>Length</th>\n",
       "      <th>Diameter</th>\n",
       "      <th>Height</th>\n",
       "      <th>Whole weight</th>\n",
       "      <th>Shucked weight</th>\n",
       "      <th>Viscera weight</th>\n",
       "      <th>Shell weight</th>\n",
       "      <th>Rings</th>\n",
       "    </tr>\n",
       "  </thead>\n",
       "  <tbody>\n",
       "    <tr>\n",
       "      <th>0</th>\n",
       "      <td>M</td>\n",
       "      <td>0.455</td>\n",
       "      <td>0.365</td>\n",
       "      <td>0.095</td>\n",
       "      <td>0.5140</td>\n",
       "      <td>0.2245</td>\n",
       "      <td>0.1010</td>\n",
       "      <td>0.150</td>\n",
       "      <td>15</td>\n",
       "    </tr>\n",
       "    <tr>\n",
       "      <th>1</th>\n",
       "      <td>M</td>\n",
       "      <td>0.350</td>\n",
       "      <td>0.265</td>\n",
       "      <td>0.090</td>\n",
       "      <td>0.2255</td>\n",
       "      <td>0.0995</td>\n",
       "      <td>0.0485</td>\n",
       "      <td>0.070</td>\n",
       "      <td>7</td>\n",
       "    </tr>\n",
       "    <tr>\n",
       "      <th>2</th>\n",
       "      <td>F</td>\n",
       "      <td>0.530</td>\n",
       "      <td>0.420</td>\n",
       "      <td>0.135</td>\n",
       "      <td>0.6770</td>\n",
       "      <td>0.2565</td>\n",
       "      <td>0.1415</td>\n",
       "      <td>0.210</td>\n",
       "      <td>9</td>\n",
       "    </tr>\n",
       "    <tr>\n",
       "      <th>3</th>\n",
       "      <td>M</td>\n",
       "      <td>0.440</td>\n",
       "      <td>0.365</td>\n",
       "      <td>0.125</td>\n",
       "      <td>0.5160</td>\n",
       "      <td>0.2155</td>\n",
       "      <td>0.1140</td>\n",
       "      <td>0.155</td>\n",
       "      <td>10</td>\n",
       "    </tr>\n",
       "    <tr>\n",
       "      <th>4</th>\n",
       "      <td>I</td>\n",
       "      <td>0.330</td>\n",
       "      <td>0.255</td>\n",
       "      <td>0.080</td>\n",
       "      <td>0.2050</td>\n",
       "      <td>0.0895</td>\n",
       "      <td>0.0395</td>\n",
       "      <td>0.055</td>\n",
       "      <td>7</td>\n",
       "    </tr>\n",
       "  </tbody>\n",
       "</table>\n",
       "</div>"
      ],
      "text/plain": [
       "  Sex  Length  Diameter  Height  Whole weight  Shucked weight  Viscera weight  \\\n",
       "0   M   0.455     0.365   0.095        0.5140          0.2245          0.1010   \n",
       "1   M   0.350     0.265   0.090        0.2255          0.0995          0.0485   \n",
       "2   F   0.530     0.420   0.135        0.6770          0.2565          0.1415   \n",
       "3   M   0.440     0.365   0.125        0.5160          0.2155          0.1140   \n",
       "4   I   0.330     0.255   0.080        0.2050          0.0895          0.0395   \n",
       "\n",
       "   Shell weight  Rings  \n",
       "0         0.150     15  \n",
       "1         0.070      7  \n",
       "2         0.210      9  \n",
       "3         0.155     10  \n",
       "4         0.055      7  "
      ]
     },
     "execution_count": 33,
     "metadata": {},
     "output_type": "execute_result"
    }
   ],
   "source": [
    "df.head()"
   ]
  },
  {
   "cell_type": "code",
   "execution_count": 34,
   "metadata": {},
   "outputs": [
    {
     "name": "stdout",
     "output_type": "stream",
     "text": [
      "<class 'pandas.core.frame.DataFrame'>\n",
      "RangeIndex: 4177 entries, 0 to 4176\n",
      "Data columns (total 9 columns):\n",
      " #   Column          Non-Null Count  Dtype  \n",
      "---  ------          --------------  -----  \n",
      " 0   Sex             4177 non-null   object \n",
      " 1   Length          4177 non-null   float64\n",
      " 2   Diameter        4177 non-null   float64\n",
      " 3   Height          4177 non-null   float64\n",
      " 4   Whole weight    4177 non-null   float64\n",
      " 5   Shucked weight  4177 non-null   float64\n",
      " 6   Viscera weight  4177 non-null   float64\n",
      " 7   Shell weight    4177 non-null   float64\n",
      " 8   Rings           4177 non-null   int64  \n",
      "dtypes: float64(7), int64(1), object(1)\n",
      "memory usage: 293.8+ KB\n"
     ]
    }
   ],
   "source": [
    "df.info()"
   ]
  },
  {
   "cell_type": "code",
   "execution_count": 35,
   "metadata": {},
   "outputs": [
    {
     "data": {
      "text/html": [
       "<div>\n",
       "<style scoped>\n",
       "    .dataframe tbody tr th:only-of-type {\n",
       "        vertical-align: middle;\n",
       "    }\n",
       "\n",
       "    .dataframe tbody tr th {\n",
       "        vertical-align: top;\n",
       "    }\n",
       "\n",
       "    .dataframe thead th {\n",
       "        text-align: right;\n",
       "    }\n",
       "</style>\n",
       "<table border=\"1\" class=\"dataframe\">\n",
       "  <thead>\n",
       "    <tr style=\"text-align: right;\">\n",
       "      <th></th>\n",
       "      <th>Length</th>\n",
       "      <th>Diameter</th>\n",
       "      <th>Height</th>\n",
       "      <th>Whole weight</th>\n",
       "      <th>Shucked weight</th>\n",
       "      <th>Viscera weight</th>\n",
       "      <th>Shell weight</th>\n",
       "      <th>Rings</th>\n",
       "    </tr>\n",
       "  </thead>\n",
       "  <tbody>\n",
       "    <tr>\n",
       "      <th>count</th>\n",
       "      <td>4177.000000</td>\n",
       "      <td>4177.000000</td>\n",
       "      <td>4177.000000</td>\n",
       "      <td>4177.000000</td>\n",
       "      <td>4177.000000</td>\n",
       "      <td>4177.000000</td>\n",
       "      <td>4177.000000</td>\n",
       "      <td>4177.000000</td>\n",
       "    </tr>\n",
       "    <tr>\n",
       "      <th>mean</th>\n",
       "      <td>0.523992</td>\n",
       "      <td>0.407881</td>\n",
       "      <td>0.139516</td>\n",
       "      <td>0.828742</td>\n",
       "      <td>0.359367</td>\n",
       "      <td>0.180594</td>\n",
       "      <td>0.238831</td>\n",
       "      <td>9.933684</td>\n",
       "    </tr>\n",
       "    <tr>\n",
       "      <th>std</th>\n",
       "      <td>0.120093</td>\n",
       "      <td>0.099240</td>\n",
       "      <td>0.041827</td>\n",
       "      <td>0.490389</td>\n",
       "      <td>0.221963</td>\n",
       "      <td>0.109614</td>\n",
       "      <td>0.139203</td>\n",
       "      <td>3.224169</td>\n",
       "    </tr>\n",
       "    <tr>\n",
       "      <th>min</th>\n",
       "      <td>0.075000</td>\n",
       "      <td>0.055000</td>\n",
       "      <td>0.000000</td>\n",
       "      <td>0.002000</td>\n",
       "      <td>0.001000</td>\n",
       "      <td>0.000500</td>\n",
       "      <td>0.001500</td>\n",
       "      <td>1.000000</td>\n",
       "    </tr>\n",
       "    <tr>\n",
       "      <th>25%</th>\n",
       "      <td>0.450000</td>\n",
       "      <td>0.350000</td>\n",
       "      <td>0.115000</td>\n",
       "      <td>0.441500</td>\n",
       "      <td>0.186000</td>\n",
       "      <td>0.093500</td>\n",
       "      <td>0.130000</td>\n",
       "      <td>8.000000</td>\n",
       "    </tr>\n",
       "    <tr>\n",
       "      <th>50%</th>\n",
       "      <td>0.545000</td>\n",
       "      <td>0.425000</td>\n",
       "      <td>0.140000</td>\n",
       "      <td>0.799500</td>\n",
       "      <td>0.336000</td>\n",
       "      <td>0.171000</td>\n",
       "      <td>0.234000</td>\n",
       "      <td>9.000000</td>\n",
       "    </tr>\n",
       "    <tr>\n",
       "      <th>75%</th>\n",
       "      <td>0.615000</td>\n",
       "      <td>0.480000</td>\n",
       "      <td>0.165000</td>\n",
       "      <td>1.153000</td>\n",
       "      <td>0.502000</td>\n",
       "      <td>0.253000</td>\n",
       "      <td>0.329000</td>\n",
       "      <td>11.000000</td>\n",
       "    </tr>\n",
       "    <tr>\n",
       "      <th>max</th>\n",
       "      <td>0.815000</td>\n",
       "      <td>0.650000</td>\n",
       "      <td>1.130000</td>\n",
       "      <td>2.825500</td>\n",
       "      <td>1.488000</td>\n",
       "      <td>0.760000</td>\n",
       "      <td>1.005000</td>\n",
       "      <td>29.000000</td>\n",
       "    </tr>\n",
       "  </tbody>\n",
       "</table>\n",
       "</div>"
      ],
      "text/plain": [
       "            Length     Diameter       Height  Whole weight  Shucked weight  \\\n",
       "count  4177.000000  4177.000000  4177.000000   4177.000000     4177.000000   \n",
       "mean      0.523992     0.407881     0.139516      0.828742        0.359367   \n",
       "std       0.120093     0.099240     0.041827      0.490389        0.221963   \n",
       "min       0.075000     0.055000     0.000000      0.002000        0.001000   \n",
       "25%       0.450000     0.350000     0.115000      0.441500        0.186000   \n",
       "50%       0.545000     0.425000     0.140000      0.799500        0.336000   \n",
       "75%       0.615000     0.480000     0.165000      1.153000        0.502000   \n",
       "max       0.815000     0.650000     1.130000      2.825500        1.488000   \n",
       "\n",
       "       Viscera weight  Shell weight        Rings  \n",
       "count     4177.000000   4177.000000  4177.000000  \n",
       "mean         0.180594      0.238831     9.933684  \n",
       "std          0.109614      0.139203     3.224169  \n",
       "min          0.000500      0.001500     1.000000  \n",
       "25%          0.093500      0.130000     8.000000  \n",
       "50%          0.171000      0.234000     9.000000  \n",
       "75%          0.253000      0.329000    11.000000  \n",
       "max          0.760000      1.005000    29.000000  "
      ]
     },
     "execution_count": 35,
     "metadata": {},
     "output_type": "execute_result"
    }
   ],
   "source": [
    "df.describe()"
   ]
  },
  {
   "cell_type": "code",
   "execution_count": 40,
   "metadata": {},
   "outputs": [
    {
     "data": {
      "text/plain": [
       "array([[<Axes: title={'center': 'Length'}>,\n",
       "        <Axes: title={'center': 'Diameter'}>,\n",
       "        <Axes: title={'center': 'Height'}>,\n",
       "        <Axes: title={'center': 'Whole weight'}>],\n",
       "       [<Axes: title={'center': 'Shucked weight'}>,\n",
       "        <Axes: title={'center': 'Viscera weight'}>,\n",
       "        <Axes: title={'center': 'Shell weight'}>,\n",
       "        <Axes: title={'center': 'Rings'}>]], dtype=object)"
      ]
     },
     "execution_count": 40,
     "metadata": {},
     "output_type": "execute_result"
    },
    {
     "data": {
      "image/png": "[encoded data removed]",
      "text/plain": [
       "<Figure size 2000x1000 with 8 Axes>"
      ]
     },
     "metadata": {},
     "output_type": "display_data"
    }
   ],
   "source": [
    "df.hist(figsize=(20,10), grid=False, layout=(2, 4), bins = 30)"
   ]
  },
  {
   "cell_type": "code",
   "execution_count": 49,
   "metadata": {},
   "outputs": [],
   "source": [
    "numerical_features = df.select_dtypes(include=[np.number]).columns"
   ]
  },
  {
   "cell_type": "code",
   "execution_count": 48,
   "metadata": {},
   "outputs": [
    {
     "name": "stdout",
     "output_type": "stream",
     "text": [
      "Index(['Length', 'Diameter', 'Height', 'Whole weight', 'Shucked weight',\n",
      "       'Viscera weight', 'Shell weight', 'Rings'],\n",
      "      dtype='object')\n"
     ]
    }
   ],
   "source": [
    "print(numerical_features)"
   ]
  },
  {
   "cell_type": "code",
   "execution_count": null,
   "metadata": {},
   "outputs": [],
   "source": [
    " df['age'] = df['Rings']+1.5\n",
    " # df.drop('Rings', axis = 1, inplace = True)"
   ]
  },
  {
   "cell_type": "markdown",
   "metadata": {},
   "source": [
    "### Insights\n",
    "- No missing values in the dataset\n",
    "- All numerical features but 'sex': in total 9 features\n",
    "- Each feature has difference scale range"
   ]
  },
  {
   "cell_type": "code",
   "execution_count": null,
   "metadata": {},
   "outputs": [],
   "source": []
  }
 ],
 "metadata": {
  "kernelspec": {
   "display_name": "Python 3 (ipykernel)",
   "language": "python",
   "name": "python3"
  },
  "language_info": {
   "codemirror_mode": {
    "name": "ipython",
    "version": 3
   },
   "file_extension": ".py",
   "mimetype": "text/x-python",
   "name": "python",
   "nbconvert_exporter": "python",
   "pygments_lexer": "ipython3",
   "version": "3.10.10"
  }
 },
 "nbformat": 4,
 "nbformat_minor": 4
}
